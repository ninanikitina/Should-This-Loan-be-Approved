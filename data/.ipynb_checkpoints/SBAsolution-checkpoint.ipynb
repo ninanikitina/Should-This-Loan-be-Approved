{
 "cells": [
  {
   "cell_type": "markdown",
   "metadata": {},
   "source": [
    "## Setup\n",
    "\n",
    "Load our Python modules:"
   ]
  },
  {
   "cell_type": "code",
   "execution_count": 2,
   "metadata": {},
   "outputs": [],
   "source": [
    "import pandas as pd\n",
    "import numpy as np\n",
    "import seaborn as sns\n",
    "import matplotlib.pyplot as plt\n",
    "import statsmodels.api as sm"
   ]
  },
  {
   "cell_type": "markdown",
   "metadata": {},
   "source": [
    "Load the data set:"
   ]
  },
  {
   "cell_type": "code",
   "execution_count": 3,
   "metadata": {},
   "outputs": [
    {
     "data": {
      "text/html": [
       "<div>\n",
       "<style scoped>\n",
       "    .dataframe tbody tr th:only-of-type {\n",
       "        vertical-align: middle;\n",
       "    }\n",
       "\n",
       "    .dataframe tbody tr th {\n",
       "        vertical-align: top;\n",
       "    }\n",
       "\n",
       "    .dataframe thead th {\n",
       "        text-align: right;\n",
       "    }\n",
       "</style>\n",
       "<table border=\"1\" class=\"dataframe\">\n",
       "  <thead>\n",
       "    <tr style=\"text-align: right;\">\n",
       "      <th></th>\n",
       "      <th>Selected</th>\n",
       "      <th>LoanNr_ChkDgt</th>\n",
       "      <th>Name</th>\n",
       "      <th>City</th>\n",
       "      <th>State</th>\n",
       "      <th>Zip</th>\n",
       "      <th>Bank</th>\n",
       "      <th>BankState</th>\n",
       "      <th>NAICS</th>\n",
       "      <th>ApprovalDate</th>\n",
       "      <th>...</th>\n",
       "      <th>ChgOffPrinGr</th>\n",
       "      <th>GrAppv</th>\n",
       "      <th>SBA_Appv</th>\n",
       "      <th>New</th>\n",
       "      <th>RealEstate</th>\n",
       "      <th>Portion</th>\n",
       "      <th>Recession</th>\n",
       "      <th>daysterm</th>\n",
       "      <th>xx</th>\n",
       "      <th>Default</th>\n",
       "    </tr>\n",
       "  </thead>\n",
       "  <tbody>\n",
       "    <tr>\n",
       "      <th>0</th>\n",
       "      <td>0</td>\n",
       "      <td>1004285007</td>\n",
       "      <td>SIMPLEX OFFICE SOLUTIONS</td>\n",
       "      <td>ANAHEIM</td>\n",
       "      <td>CA</td>\n",
       "      <td>92801</td>\n",
       "      <td>CALIFORNIA BANK &amp; TRUST</td>\n",
       "      <td>CA</td>\n",
       "      <td>532420</td>\n",
       "      <td>15074</td>\n",
       "      <td>...</td>\n",
       "      <td>0</td>\n",
       "      <td>30000</td>\n",
       "      <td>15000</td>\n",
       "      <td>0</td>\n",
       "      <td>0</td>\n",
       "      <td>0.5</td>\n",
       "      <td>0</td>\n",
       "      <td>1080</td>\n",
       "      <td>16175.0</td>\n",
       "      <td>0</td>\n",
       "    </tr>\n",
       "    <tr>\n",
       "      <th>1</th>\n",
       "      <td>1</td>\n",
       "      <td>1004535010</td>\n",
       "      <td>DREAM HOME REALTY</td>\n",
       "      <td>TORRANCE</td>\n",
       "      <td>CA</td>\n",
       "      <td>90505</td>\n",
       "      <td>CALIFORNIA BANK &amp; TRUST</td>\n",
       "      <td>CA</td>\n",
       "      <td>531210</td>\n",
       "      <td>15130</td>\n",
       "      <td>...</td>\n",
       "      <td>0</td>\n",
       "      <td>30000</td>\n",
       "      <td>15000</td>\n",
       "      <td>0</td>\n",
       "      <td>0</td>\n",
       "      <td>0.5</td>\n",
       "      <td>1</td>\n",
       "      <td>1680</td>\n",
       "      <td>17658.0</td>\n",
       "      <td>0</td>\n",
       "    </tr>\n",
       "    <tr>\n",
       "      <th>2</th>\n",
       "      <td>0</td>\n",
       "      <td>1005005006</td>\n",
       "      <td>Winset, Inc. dba Bankers Hill</td>\n",
       "      <td>SAN DIEGO</td>\n",
       "      <td>CA</td>\n",
       "      <td>92103</td>\n",
       "      <td>CALIFORNIA BANK &amp; TRUST</td>\n",
       "      <td>CA</td>\n",
       "      <td>531210</td>\n",
       "      <td>15188</td>\n",
       "      <td>...</td>\n",
       "      <td>0</td>\n",
       "      <td>30000</td>\n",
       "      <td>15000</td>\n",
       "      <td>0</td>\n",
       "      <td>0</td>\n",
       "      <td>0.5</td>\n",
       "      <td>0</td>\n",
       "      <td>1080</td>\n",
       "      <td>16298.0</td>\n",
       "      <td>0</td>\n",
       "    </tr>\n",
       "    <tr>\n",
       "      <th>3</th>\n",
       "      <td>1</td>\n",
       "      <td>1005535001</td>\n",
       "      <td>Shiva Management</td>\n",
       "      <td>SAN DIEGO</td>\n",
       "      <td>CA</td>\n",
       "      <td>92108</td>\n",
       "      <td>CALIFORNIA BANK &amp; TRUST</td>\n",
       "      <td>CA</td>\n",
       "      <td>531312</td>\n",
       "      <td>15719</td>\n",
       "      <td>...</td>\n",
       "      <td>0</td>\n",
       "      <td>50000</td>\n",
       "      <td>25000</td>\n",
       "      <td>0</td>\n",
       "      <td>0</td>\n",
       "      <td>0.5</td>\n",
       "      <td>0</td>\n",
       "      <td>1080</td>\n",
       "      <td>16816.0</td>\n",
       "      <td>0</td>\n",
       "    </tr>\n",
       "    <tr>\n",
       "      <th>4</th>\n",
       "      <td>1</td>\n",
       "      <td>1005996006</td>\n",
       "      <td>GOLD CROWN HOME LOANS, INC</td>\n",
       "      <td>LOS ANGELES</td>\n",
       "      <td>CA</td>\n",
       "      <td>91345</td>\n",
       "      <td>SBA - EDF ENFORCEMENT ACTION</td>\n",
       "      <td>CO</td>\n",
       "      <td>531390</td>\n",
       "      <td>16840</td>\n",
       "      <td>...</td>\n",
       "      <td>0</td>\n",
       "      <td>343000</td>\n",
       "      <td>343000</td>\n",
       "      <td>0</td>\n",
       "      <td>1</td>\n",
       "      <td>1.0</td>\n",
       "      <td>0</td>\n",
       "      <td>7200</td>\n",
       "      <td>24103.0</td>\n",
       "      <td>0</td>\n",
       "    </tr>\n",
       "  </tbody>\n",
       "</table>\n",
       "<p>5 rows × 35 columns</p>\n",
       "</div>"
      ],
      "text/plain": [
       "   Selected  LoanNr_ChkDgt                           Name         City State  \\\n",
       "0         0     1004285007       SIMPLEX OFFICE SOLUTIONS      ANAHEIM    CA   \n",
       "1         1     1004535010              DREAM HOME REALTY     TORRANCE    CA   \n",
       "2         0     1005005006  Winset, Inc. dba Bankers Hill    SAN DIEGO    CA   \n",
       "3         1     1005535001               Shiva Management    SAN DIEGO    CA   \n",
       "4         1     1005996006     GOLD CROWN HOME LOANS, INC  LOS ANGELES    CA   \n",
       "\n",
       "     Zip                          Bank BankState   NAICS  ApprovalDate  ...  \\\n",
       "0  92801       CALIFORNIA BANK & TRUST        CA  532420         15074  ...   \n",
       "1  90505       CALIFORNIA BANK & TRUST        CA  531210         15130  ...   \n",
       "2  92103       CALIFORNIA BANK & TRUST        CA  531210         15188  ...   \n",
       "3  92108       CALIFORNIA BANK & TRUST        CA  531312         15719  ...   \n",
       "4  91345  SBA - EDF ENFORCEMENT ACTION        CO  531390         16840  ...   \n",
       "\n",
       "   ChgOffPrinGr  GrAppv  SBA_Appv  New  RealEstate  Portion  Recession  \\\n",
       "0             0   30000     15000    0           0      0.5          0   \n",
       "1             0   30000     15000    0           0      0.5          1   \n",
       "2             0   30000     15000    0           0      0.5          0   \n",
       "3             0   50000     25000    0           0      0.5          0   \n",
       "4             0  343000    343000    0           1      1.0          0   \n",
       "\n",
       "   daysterm       xx Default  \n",
       "0      1080  16175.0       0  \n",
       "1      1680  17658.0       0  \n",
       "2      1080  16298.0       0  \n",
       "3      1080  16816.0       0  \n",
       "4      7200  24103.0       0  \n",
       "\n",
       "[5 rows x 35 columns]"
      ]
     },
     "execution_count": 3,
     "metadata": {},
     "output_type": "execute_result"
    }
   ],
   "source": [
    "sba = pd.read_csv('SBA/SBAcase.11.13.17.csv')\n",
    "sba.head()"
   ]
  },
  {
   "cell_type": "markdown",
   "metadata": {},
   "source": [
    "And let's see our columns, just to take the lay of the land:"
   ]
  },
  {
   "cell_type": "code",
   "execution_count": 4,
   "metadata": {},
   "outputs": [
    {
     "name": "stdout",
     "output_type": "stream",
     "text": [
      "<class 'pandas.core.frame.DataFrame'>\n",
      "RangeIndex: 2102 entries, 0 to 2101\n",
      "Data columns (total 35 columns):\n",
      " #   Column             Non-Null Count  Dtype  \n",
      "---  ------             --------------  -----  \n",
      " 0   Selected           2102 non-null   int64  \n",
      " 1   LoanNr_ChkDgt      2102 non-null   int64  \n",
      " 2   Name               2102 non-null   object \n",
      " 3   City               2102 non-null   object \n",
      " 4   State              2102 non-null   object \n",
      " 5   Zip                2102 non-null   int64  \n",
      " 6   Bank               2099 non-null   object \n",
      " 7   BankState          2099 non-null   object \n",
      " 8   NAICS              2102 non-null   int64  \n",
      " 9   ApprovalDate       2102 non-null   int64  \n",
      " 10  ApprovalFY         2102 non-null   int64  \n",
      " 11  Term               2102 non-null   int64  \n",
      " 12  NoEmp              2102 non-null   int64  \n",
      " 13  NewExist           2101 non-null   float64\n",
      " 14  CreateJob          2102 non-null   int64  \n",
      " 15  RetainedJob        2102 non-null   int64  \n",
      " 16  FranchiseCode      2102 non-null   int64  \n",
      " 17  UrbanRural         2102 non-null   int64  \n",
      " 18  RevLineCr          2100 non-null   object \n",
      " 19  LowDoc             2099 non-null   object \n",
      " 20  ChgOffDate         697 non-null    float64\n",
      " 21  DisbursementDate   2099 non-null   float64\n",
      " 22  DisbursementGross  2102 non-null   int64  \n",
      " 23  BalanceGross       2102 non-null   int64  \n",
      " 24  MIS_Status         2102 non-null   object \n",
      " 25  ChgOffPrinGr       2102 non-null   int64  \n",
      " 26  GrAppv             2102 non-null   int64  \n",
      " 27  SBA_Appv           2102 non-null   int64  \n",
      " 28  New                2102 non-null   int64  \n",
      " 29  RealEstate         2102 non-null   int64  \n",
      " 30  Portion            2102 non-null   float64\n",
      " 31  Recession          2102 non-null   int64  \n",
      " 32  daysterm           2102 non-null   int64  \n",
      " 33  xx                 2099 non-null   float64\n",
      " 34  Default            2102 non-null   int64  \n",
      "dtypes: float64(5), int64(22), object(8)\n",
      "memory usage: 574.9+ KB\n"
     ]
    }
   ],
   "source": [
    "sba.info()"
   ]
  },
  {
   "cell_type": "markdown",
   "metadata": {},
   "source": [
    "## Probability of Default\n",
    "\n",
    "Default status is encoded in the `Default` variable.\n",
    "\n",
    "Since it is 0/1 (False/True behaves the same way), we can take the mean to compute $P(\\mathrm{default})$:"
   ]
  },
  {
   "cell_type": "code",
   "execution_count": 5,
   "metadata": {},
   "outputs": [
    {
     "data": {
      "text/plain": [
       "0.3263558515699334"
      ]
     },
     "execution_count": 5,
     "metadata": {},
     "output_type": "execute_result"
    }
   ],
   "source": [
    "sba['Default'].mean()"
   ]
  },
  {
   "cell_type": "markdown",
   "metadata": {},
   "source": [
    "Now we want to plot. A countplot is a good start, as it lets us get started:"
   ]
  },
  {
   "cell_type": "code",
   "execution_count": 6,
   "metadata": {},
   "outputs": [
    {
     "data": {
      "text/plain": [
       "<matplotlib.axes._subplots.AxesSubplot at 0x1c26379c9d0>"
      ]
     },
     "execution_count": 6,
     "metadata": {},
     "output_type": "execute_result"
    },
    {
     "data": {
      "image/png": "[encoded data removed]",
      "text/plain": [
       "<Figure size 432x288 with 1 Axes>"
      ]
     },
     "metadata": {
      "needs_background": "light"
     },
     "output_type": "display_data"
    }
   ],
   "source": [
    "sns.countplot(sba['Default'])"
   ]
  },
  {
   "cell_type": "markdown",
   "metadata": {},
   "source": [
    "But that isn't the *probability*.  We need to get more creative for that, by actually computing the probabilities.\n",
    "\n",
    "So let's do that.  We can make a Pandas series that contains the probability of default or not, and turn it in to a data frame:"
   ]
  },
  {
   "cell_type": "code",
   "execution_count": 7,
   "metadata": {},
   "outputs": [
    {
     "data": {
      "text/plain": [
       "<matplotlib.axes._subplots.AxesSubplot at 0x1c263f28160>"
      ]
     },
     "execution_count": 7,
     "metadata": {},
     "output_type": "execute_result"
    },
    {
     "data": {
      "image/png": "[encoded data removed]",
      "text/plain": [
       "<Figure size 432x288 with 1 Axes>"
      ]
     },
     "metadata": {
      "needs_background": "light"
     },
     "output_type": "display_data"
    }
   ],
   "source": [
    "prob_dft = pd.Series({\n",
    "    'Default': sba['Default'].mean(),\n",
    "    'Not Default': 1 - sba['Default'].mean()\n",
    "}, name='Probability')\n",
    "sns.barplot(prob_dft.index, prob_dft)"
   ]
  },
  {
   "cell_type": "markdown",
   "metadata": {},
   "source": [
    "## Conditional Probabilities\n",
    "\n",
    "Now we want to think about the *conditional* probability of default. Let's look at it for new and existing businesses.\n",
    "\n",
    "The 0-1 coding means we can take the mean, *grouped by the categorical*, to estimate the conditional probability P(default|new) (and P(default|existing)):"
   ]
  },
  {
   "cell_type": "code",
   "execution_count": 8,
   "metadata": {},
   "outputs": [
    {
     "data": {
      "text/plain": [
       "NewExist\n",
       "0.0    0.000000\n",
       "1.0    0.323198\n",
       "2.0    0.345679\n",
       "Name: Default, dtype: float64"
      ]
     },
     "execution_count": 8,
     "metadata": {},
     "output_type": "execute_result"
    }
   ],
   "source": [
    "sba.groupby('NewExist')['Default'].mean()"
   ]
  },
  {
   "cell_type": "markdown",
   "metadata": {},
   "source": [
    "That isn't very readable, though. The data doc points to a cleaned up variable, `New`:"
   ]
  },
  {
   "cell_type": "code",
   "execution_count": 11,
   "metadata": {},
   "outputs": [
    {
     "data": {
      "text/plain": [
       "New\n",
       "0    0.322835\n",
       "1    0.345679\n",
       "Name: Default, dtype: float64"
      ]
     },
     "execution_count": 11,
     "metadata": {},
     "output_type": "execute_result"
    }
   ],
   "source": [
    "ne_prob_dft = sba.groupby('New')['Default'].mean()\n",
    "ne_prob_dft"
   ]
  },
  {
   "cell_type": "markdown",
   "metadata": {},
   "source": [
    "That's easier to read, if we understand `New` as a logical coded as 1 for a new business. New businesses look more likely to default.\n",
    "\n",
    "Computing a probability limited to data satisfying a condition is the same as computing the conditional probability.\n",
    "\n",
    "What's a good way to plot this? We can just plot the probabilities side by side:"
   ]
  },
  {
   "cell_type": "code",
   "execution_count": 17,
   "metadata": {},
   "outputs": [
    {
     "data": {
      "text/plain": [
       "Text(0, 0.5, 'Probability of Default')"
      ]
     },
     "execution_count": 17,
     "metadata": {},
     "output_type": "execute_result"
    },
    {
     "data": {
      "image/png": "[encoded data removed]",
      "text/plain": [
       "<Figure size 432x288 with 1 Axes>"
      ]
     },
     "metadata": {
      "needs_background": "light"
     },
     "output_type": "display_data"
    }
   ],
   "source": [
    "sns.barplot(ne_prob_dft.index, ne_prob_dft)\n",
    "plt.xticks([0, 1], ['Existing', 'New'])\n",
    "plt.ylabel('Probability of Default')"
   ]
  },
  {
   "cell_type": "markdown",
   "metadata": {},
   "source": [
    "We could also do a bar chart where *x* is default and not-default, and colors are new/existing, and *y* is probability."
   ]
  },
  {
   "cell_type": "markdown",
   "metadata": {},
   "source": [
    "The statistical test for this is called a *proportion* test.  Scipy doesn't have one built in, but statsmodels does (I mentioned in class that scipy does, but I was incorrect).  It takes *arrays* of values:\n",
    "\n",
    "- an array of success counts\n",
    "- an array of total counts\n",
    "\n",
    "It tests the **null hypothesis** that *all proportions are equal*.\n",
    "\n",
    "We can set up our counts with `agg`:"
   ]
  },
  {
   "cell_type": "code",
   "execution_count": 18,
   "metadata": {},
   "outputs": [
    {
     "data": {
      "text/html": [
       "<div>\n",
       "<style scoped>\n",
       "    .dataframe tbody tr th:only-of-type {\n",
       "        vertical-align: middle;\n",
       "    }\n",
       "\n",
       "    .dataframe tbody tr th {\n",
       "        vertical-align: top;\n",
       "    }\n",
       "\n",
       "    .dataframe thead th {\n",
       "        text-align: right;\n",
       "    }\n",
       "</style>\n",
       "<table border=\"1\" class=\"dataframe\">\n",
       "  <thead>\n",
       "    <tr style=\"text-align: right;\">\n",
       "      <th></th>\n",
       "      <th>count</th>\n",
       "      <th>sum</th>\n",
       "      <th>mean</th>\n",
       "    </tr>\n",
       "    <tr>\n",
       "      <th>New</th>\n",
       "      <th></th>\n",
       "      <th></th>\n",
       "      <th></th>\n",
       "    </tr>\n",
       "  </thead>\n",
       "  <tbody>\n",
       "    <tr>\n",
       "      <th>0</th>\n",
       "      <td>1778</td>\n",
       "      <td>574</td>\n",
       "      <td>0.322835</td>\n",
       "    </tr>\n",
       "    <tr>\n",
       "      <th>1</th>\n",
       "      <td>324</td>\n",
       "      <td>112</td>\n",
       "      <td>0.345679</td>\n",
       "    </tr>\n",
       "  </tbody>\n",
       "</table>\n",
       "</div>"
      ],
      "text/plain": [
       "     count  sum      mean\n",
       "New                      \n",
       "0     1778  574  0.322835\n",
       "1      324  112  0.345679"
      ]
     },
     "execution_count": 18,
     "metadata": {},
     "output_type": "execute_result"
    }
   ],
   "source": [
    "ne_dft_stats = sba.groupby('New')['Default'].agg(['count', 'sum', 'mean'])\n",
    "ne_dft_stats"
   ]
  },
  {
   "cell_type": "markdown",
   "metadata": {},
   "source": [
    "The columns are arrays, which will be fine for the proportion test.  Here we go:"
   ]
  },
  {
   "cell_type": "code",
   "execution_count": 19,
   "metadata": {},
   "outputs": [
    {
     "data": {
      "text/plain": [
       "(-0.806566494707552, 0.41991628376272316)"
      ]
     },
     "execution_count": 19,
     "metadata": {},
     "output_type": "execute_result"
    }
   ],
   "source": [
    "sm.stats.proportions_ztest(ne_dft_stats['sum'], ne_dft_stats['count'])"
   ]
  },
  {
   "cell_type": "markdown",
   "metadata": {},
   "source": [
    "It returned two values:\n",
    "\n",
    "1. The *z*-statistic, which is the underlying statistic it uses for the proportion test\n",
    "2. The *p*-value\n",
    "\n",
    "The *p*-value is large, so we **cannot reject the null hypothesis**.  That means, as near as we can tell from this data, default and new/existing business status are independent.\n",
    "\n",
    "We can also bootstrap a p-value.  Like with the two-sample mean, we need to sample from the null distribution where *there is no difference*, and see how often we see a difference as large as we observed.\n",
    "\n",
    "Let's get the observed difference:"
   ]
  },
  {
   "cell_type": "code",
   "execution_count": 20,
   "metadata": {},
   "outputs": [
    {
     "data": {
      "text/plain": [
       "-0.022844366676387673"
      ]
     },
     "execution_count": 20,
     "metadata": {},
     "output_type": "execute_result"
    }
   ],
   "source": [
    "ne_obs_diff = ne_dft_stats.loc[0, 'mean'] - ne_dft_stats.loc[1, 'mean']\n",
    "ne_obs_diff"
   ]
  },
  {
   "cell_type": "markdown",
   "metadata": {},
   "source": [
    "Now, we need to bootstrap. We're going to take samples from the `Default` column, and for each bootstrap, we're going to sample with replacement from the *entire* column (null hypothesis: no difference).  This time I'm going to do it with a loop rather than a comprehension; the `np.empty` function allocates a new array that we're going to fill with our observed differences:"
   ]
  },
  {
   "cell_type": "code",
   "execution_count": 21,
   "metadata": {},
   "outputs": [
    {
     "data": {
      "text/plain": [
       "<matplotlib.axes._subplots.AxesSubplot at 0x1c26579e5b0>"
      ]
     },
     "execution_count": 21,
     "metadata": {},
     "output_type": "execute_result"
    },
    {
     "data": {
      "image/png": "[encoded data removed]",
      "text/plain": [
       "<Figure size 432x288 with 1 Axes>"
      ]
     },
     "metadata": {
      "needs_background": "light"
     },
     "output_type": "display_data"
    }
   ],
   "source": [
    "ne_boot_diffs = np.empty(10000)\n",
    "for i in range(10000):\n",
    "    samp0 = np.random.choice(sba['Default'], size=ne_dft_stats.loc[0, 'count'], replace=True)\n",
    "    samp1 = np.random.choice(sba['Default'], size=ne_dft_stats.loc[1, 'count'], replace=True)\n",
    "    ne_boot_diffs[i] = np.mean(samp0) - np.mean(samp1)\n",
    "sns.distplot(ne_boot_diffs)"
   ]
  },
  {
   "cell_type": "markdown",
   "metadata": {},
   "source": [
    "Now let's count occurrances, to compute our p-value:"
   ]
  },
  {
   "cell_type": "code",
   "execution_count": 22,
   "metadata": {},
   "outputs": [
    {
     "data": {
      "text/plain": [
       "0.427"
      ]
     },
     "execution_count": 22,
     "metadata": {},
     "output_type": "execute_result"
    }
   ],
   "source": [
    "np.mean(np.abs(ne_boot_diffs) >= np.abs(ne_obs_diff))"
   ]
  },
  {
   "cell_type": "markdown",
   "metadata": {},
   "source": [
    "This is very close to the *p*-value computed by the proportion test, and is similarly too high to reject the null hypothesis.  Default and new business status look independent, at least in this data."
   ]
  },
  {
   "cell_type": "code",
   "execution_count": null,
   "metadata": {},
   "outputs": [],
   "source": []
  }
 ],
 "metadata": {
  "kernelspec": {
   "display_name": "Python 3 (ipykernel)",
   "language": "python",
   "name": "python3"
  },
  "language_info": {
   "codemirror_mode": {
    "name": "ipython",
    "version": 3
   },
   "file_extension": ".py",
   "mimetype": "text/x-python",
   "name": "python",
   "nbconvert_exporter": "python",
   "pygments_lexer": "ipython3",
   "version": "3.10.4"
  }
 },
 "nbformat": 4,
 "nbformat_minor": 4
}
